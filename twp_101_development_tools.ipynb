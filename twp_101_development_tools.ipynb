{
 "cells": [
  {
   "cell_type": "markdown",
   "metadata": {},
   "source": [
    "# Development tools\n",
    "\n",
    "Python ecosystem features many development tools, the multitude can be overwhelming. We'll start by taking a look at the tools most useful for data analysis.\n",
    "\n",
    "\n",
    "\n",
    "## IPython\n",
    "\n",
    "![](img/IPython_example.png)\n",
    "\n",
    "*Interactive Python (IPython)* is the most basic human-friendly interactive shell. It can be started in a console and the only thing you get is a command prompt, ready to interpret your commands:\n",
    "\n",
    "`In [1]:`\n",
    "\n",
    "As a stand-alone tool, IPython has limited usage, but it forms the basis for `Jupyter Notebook` and is embedded in other tools (like `Spyder`). I usually use it as a calculator or when I only need to run just a couple lines of code.\n",
    "\n",
    "\n",
    "\n",
    "## Source code editors\n",
    "\n",
    "While excellent for prototyping the notebook is not well suited for handling large amounts of code. We will need a conventional editor or an [IDE](http://en.wikipedia.org/wiki/Integrated_development_environment) for writing modules or stand-alone applications. \n",
    "\n",
    "To quickly view source code files you'll need a lightweight text editor with source code highlighting. Use your favorite one. I would recommend [Notepad++](https://notepad-plus-plus.org/) is an excellent choice for Windows users.\n",
    "\n",
    "\n",
    "Anaconda distribution includes [Spyder](https://pythonhosted.org/spyder/) an IDE specifically developed for scientific applications. \n",
    "\n",
    "\n",
    "\n"
   ]
  },
  {
   "cell_type": "markdown",
   "metadata": {},
   "source": [
    "## Jupyter notebook\n",
    "[ref]: # (Jupyter notebook-overview)\n",
    "\n",
    "Most of the time we will be using an environment called *Jupyter notebook* (previously called “IPython notebook”). It is ultimately suited for interactive research work. \n",
    "\n",
    "\n",
    "\n",
    ">The IPython Notebook is a web-based interactive computational environment where you can combine code execution, text, mathematics, plots and rich media into a single document\n",
    "\n",
    "![](img/jupyterpreview.png)\n",
    "\n",
    "\n",
    "Jupyter Notebook was inspired by math software like Mathematica and Maple, but the Scientific Python community took the idea much further, creating a whole ecosystem of tools and extensions. The notebook not only makes working with interactive code easy, it also enables sharing the results by exporting them to a variety of formats with `nbconvert` command.\n",
    "\n",
    "You can now do (financial) research in the same way as you would write a document, by combining written ideas, code and output to a single document. \n",
    "\n",
    "\n",
    "The notebook is a part of a typical development worklfow :\n",
    "\n",
    "1. Prototype in notebook - develop code snippets\n",
    "2. Create module in an IDE  - move code snippets to a separate modeule\n",
    "3. Reuse functions in notebook - import modules in notebook\n",
    "\n",
    "\n",
    "\n",
    "\n",
    "\n",
    "\n",
    "### Getting around \n",
    "\n",
    "The notebook consists of 'cells', each cell is a short section of code or text. "
   ]
  },
  {
   "cell_type": "raw",
   "metadata": {},
   "source": [
    "The text can be just simple raw text."
   ]
  },
  {
   "cell_type": "markdown",
   "metadata": {},
   "source": [
    "Or rich formatted text using the [Markdown](http://en.wikipedia.org/wiki/Markdown) language.  \n",
    "For a set of good examples see [Mardkown cells](http://nbviewer.jupyter.org/github/ipython/ipython/blob/3.x/examples/Notebook/Working%20With%20Markdown%20Cells.ipynb)\n",
    "\n",
    "[ref]: # (Jupyter notebook - markdown)\n",
    "\n",
    "You can interact with a cell by using the menu above or use keyboar shortcuts:\n",
    "\n",
    "* _Double click_ on a cell to edit it.\n",
    "* _Shift-Enter_ to run the code and advance to the next cell\n",
    "* _Ctrl-Enter_ to run the cell code.\n",
    "\n",
    "To get hint about keyboard shortcuts, press _Ctrl-m h_ \n"
   ]
  },
  {
   "cell_type": "code",
   "execution_count": 1,
   "metadata": {},
   "outputs": [
    {
     "name": "stdout",
     "output_type": "stream",
     "text": [
      "Hello there!\n"
     ]
    }
   ],
   "source": [
    "# and of course code\n",
    "print('Hello there!')"
   ]
  },
  {
   "cell_type": "markdown",
   "metadata": {},
   "source": [
    "### Cell magics\n",
    "\n",
    "[ref]: # (Jupyter notebook-magic commands)\n",
    "There are some specific IPython  commands which are called [cell magics](http://ipython.readthedocs.io/en/stable/interactive/magics.html). A cell magic normally starts with a `%` sign. These commands will not run when used in a `.py` script .\n",
    "\n",
    "The magics can be very handy however, here are some of them:\n",
    "\n",
    "| Command    |  Description                  |\n",
    "|------------|-------------------------------|\n",
    "|  %pwd      |  get current working directory|\n",
    "|  %ls       |  list files in current dir    |\n",
    "|  %run      |  execute code from a file     |\n",
    "|  %load     |  insert code from file or url |\n",
    "|  %qtconsole|  start a console (same kernel)|\n",
    "|  %who      |  list global variables        |\n",
    "|  %debug    |  start pdb debugger           |\n",
    "|  %timeit   |  measure execution speed      |\n",
    "|  %pylab    |  load all scientific libraries|\n",
    "|  %pycat    |  print contents of a file     |\n",
    "|  %system   |  execute a shell command      |\n",
    "|  %quickref |  ipython quick reference      |\n",
    "\n",
    "\n",
    "<div class=\"alert alert-info\">\n",
    "**note:**\n",
    "\n",
    " Of course it is difficult to remember all the commands. `%quickref` will help you out! \n",
    "\n",
    "</div>\n",
    "\n",
    "\n",
    "and example of a magic command:"
   ]
  },
  {
   "cell_type": "code",
   "execution_count": 2,
   "metadata": {},
   "outputs": [
    {
     "data": {
      "text/plain": [
       "'/home/jev/Development/twp_4/source/notebooks'"
      ]
     },
     "execution_count": 2,
     "metadata": {},
     "output_type": "execute_result"
    }
   ],
   "source": [
    "# let's get current location\n",
    "%pwd"
   ]
  },
  {
   "cell_type": "markdown",
   "metadata": {},
   "source": [
    "### Shell commands\n",
    "\n",
    "Shell commands can be executed by preceeding them with `!` sign:"
   ]
  },
  {
   "cell_type": "code",
   "execution_count": 3,
   "metadata": {},
   "outputs": [
    {
     "name": "stdout",
     "output_type": "stream",
     "text": [
      "Python 3.6.2 :: Anaconda custom (64-bit)\r\n"
     ]
    }
   ],
   "source": [
    "!python --version"
   ]
  },
  {
   "cell_type": "markdown",
   "metadata": {},
   "source": [
    "<div class=\"alert alert-warning\">\n",
    "**References** <br>\n",
    "\n",
    "[28 Jupyter Notebook tips,trick and shortcuts](https://www.dataquest.io/blog/jupyter-notebook-tips-tricks-shortcuts/) <br>\n",
    "[Notebook documentation](http://nbviewer.jupyter.org/github/ipython/ipython/blob/3.x/examples/Notebook/Index.ipynb)\n",
    "\n",
    "</div>"
   ]
  }
 ],
 "metadata": {
  "kernelspec": {
   "display_name": "Python 3",
   "language": "python",
   "name": "python3"
  },
  "language_info": {
   "codemirror_mode": {
    "name": "ipython",
    "version": 3
   },
   "file_extension": ".py",
   "mimetype": "text/x-python",
   "name": "python",
   "nbconvert_exporter": "python",
   "pygments_lexer": "ipython3",
   "version": "3.6.2"
  },
  "toc": {
   "nav_menu": {},
   "number_sections": false,
   "sideBar": true,
   "skip_h1_title": false,
   "toc_cell": false,
   "toc_position": {},
   "toc_section_display": "block",
   "toc_window_display": true
  }
 },
 "nbformat": 4,
 "nbformat_minor": 2
}
