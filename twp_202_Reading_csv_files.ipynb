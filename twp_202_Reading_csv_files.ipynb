{
 "cells": [
  {
   "cell_type": "code",
   "execution_count": 1,
   "metadata": {},
   "outputs": [
    {
     "name": "stdout",
     "output_type": "stream",
     "text": [
      "Populating the interactive namespace from numpy and matplotlib\n"
     ]
    }
   ],
   "source": [
    "%pylab inline\n",
    "%run common.py\n",
    "import tradingWithPython as twp"
   ]
  },
  {
   "cell_type": "markdown",
   "metadata": {},
   "source": [
    "# Working with csv files\n",
    "\n",
    "## Reading csv\n",
    "\n",
    "[ref]: # (csv files - reading)\n",
    "[ref]: # (data io - csv files)\n",
    "\n",
    "[Csv files](http://en.wikipedia.org/wiki/Comma-separated_values) are frequently used for price data storage. This a very  popular method because:\n",
    "\n",
    "* Files are plain text, human readable\n",
    "* Supported by most systems\n",
    "\n",
    "Let's take a look at working with this type of data. \n",
    "\n",
    "To start we need an example csv file. The code below creates a `tmp` subdirectory and writes `test.csv` into it. \n",
    "\n",
    "By the way, we use a *multiline* string notation below. By using triple quotes, the newline characters are included in the string."
   ]
  },
  {
   "cell_type": "code",
   "execution_count": 2,
   "metadata": {
    "collapsed": true
   },
   "outputs": [],
   "source": [
    "import os\n",
    "if not os.path.exists('tmp'): \n",
    "    os.mkdir('tmp') # create tmp subdirectory if it does not exist yet\n",
    "\n",
    "#------write data to test.csv     \n",
    "txt = \"\"\"date, colB, colC\n",
    "01-01-2013,2,a\n",
    "02-01-2013,4,b\n",
    "03-01-2013,6,c\n",
    "\"\"\"\n",
    "\n",
    "with open('tmp/test.csv','w') as f: # with ... open ... as  is a robust way to open a file and read/write to it\n",
    "    f.write(txt)\n",
    "    \n",
    "    "
   ]
  },
  {
   "cell_type": "markdown",
   "metadata": {},
   "source": [
    "### The easy way\n",
    "\n",
    "[ref]: # (csv files - reading with pandas)\n",
    "\n",
    "The easiest way to load a csv file is to use [`DataFrame.from_csv()`](https://pandas.pydata.org/pandas-docs/stable/generated/pandas.DataFrame.from_csv.html) or [`read_csv()`](https://pandas.pydata.org/pandas-docs/stable/generated/pandas.read_csv.html) functions from pandas. When it parses data correctly, it is the best way to read and write csv files. However, there are some situations where the result is not exactly what you would expect. \n",
    "Let's read our `test.csv`  , the *date* column should be used as index and converted to `datetime` type."
   ]
  },
  {
   "cell_type": "code",
   "execution_count": 3,
   "metadata": {},
   "outputs": [
    {
     "name": "stdout",
     "output_type": "stream",
     "text": [
      "Data types:\n",
      "--------------\n",
      " date     object\n",
      " colB     int64\n",
      " colC    object\n",
      "dtype: object\n"
     ]
    },
    {
     "data": {
      "text/html": [
       "<div>\n",
       "<style scoped>\n",
       "    .dataframe tbody tr th:only-of-type {\n",
       "        vertical-align: middle;\n",
       "    }\n",
       "\n",
       "    .dataframe tbody tr th {\n",
       "        vertical-align: top;\n",
       "    }\n",
       "\n",
       "    .dataframe thead th {\n",
       "        text-align: right;\n",
       "    }\n",
       "</style>\n",
       "<table border=\"1\" class=\"dataframe\">\n",
       "  <thead>\n",
       "    <tr style=\"text-align: right;\">\n",
       "      <th></th>\n",
       "      <th>date</th>\n",
       "      <th>colB</th>\n",
       "      <th>colC</th>\n",
       "    </tr>\n",
       "  </thead>\n",
       "  <tbody>\n",
       "    <tr>\n",
       "      <th>0</th>\n",
       "      <td>01-01-2013</td>\n",
       "      <td>2</td>\n",
       "      <td>a</td>\n",
       "    </tr>\n",
       "    <tr>\n",
       "      <th>1</th>\n",
       "      <td>02-01-2013</td>\n",
       "      <td>4</td>\n",
       "      <td>b</td>\n",
       "    </tr>\n",
       "    <tr>\n",
       "      <th>2</th>\n",
       "      <td>03-01-2013</td>\n",
       "      <td>6</td>\n",
       "      <td>c</td>\n",
       "    </tr>\n",
       "  </tbody>\n",
       "</table>\n",
       "</div>"
      ],
      "text/plain": [
       "         date   colB  colC\n",
       "0  01-01-2013      2     a\n",
       "1  02-01-2013      4     b\n",
       "2  03-01-2013      6     c"
      ]
     },
     "execution_count": 3,
     "metadata": {},
     "output_type": "execute_result"
    }
   ],
   "source": [
    "import pandas as pd\n",
    "df = pd.read_csv('tmp/test.csv') # load DataFrame from csv\n",
    "print('Data types:\\n--------------\\n', df.dtypes) # show column types\n",
    "df # output dataframe in pretty formatting"
   ]
  },
  {
   "cell_type": "markdown",
   "metadata": {},
   "source": [
    "In this case the columns are read correctly, but the date, which we actually want to be the index column is not parsed (it is still a string). An index has also been automatically added. This can be fixed by specifying some parameters (see the [documentation](https://pandas.pydata.org/pandas-docs/stable/generated/pandas.read_csv.html) for all options):"
   ]
  },
  {
   "cell_type": "code",
   "execution_count": 4,
   "metadata": {},
   "outputs": [
    {
     "name": "stdout",
     "output_type": "stream",
     "text": [
      "Data types:\n",
      "--------------\n",
      "  colB     int64\n",
      " colC    object\n",
      "dtype: object\n"
     ]
    },
    {
     "data": {
      "text/html": [
       "<div>\n",
       "<style scoped>\n",
       "    .dataframe tbody tr th:only-of-type {\n",
       "        vertical-align: middle;\n",
       "    }\n",
       "\n",
       "    .dataframe tbody tr th {\n",
       "        vertical-align: top;\n",
       "    }\n",
       "\n",
       "    .dataframe thead th {\n",
       "        text-align: right;\n",
       "    }\n",
       "</style>\n",
       "<table border=\"1\" class=\"dataframe\">\n",
       "  <thead>\n",
       "    <tr style=\"text-align: right;\">\n",
       "      <th></th>\n",
       "      <th>colB</th>\n",
       "      <th>colC</th>\n",
       "    </tr>\n",
       "    <tr>\n",
       "      <th>date</th>\n",
       "      <th></th>\n",
       "      <th></th>\n",
       "    </tr>\n",
       "  </thead>\n",
       "  <tbody>\n",
       "    <tr>\n",
       "      <th>2013-01-01</th>\n",
       "      <td>2</td>\n",
       "      <td>a</td>\n",
       "    </tr>\n",
       "    <tr>\n",
       "      <th>2013-01-02</th>\n",
       "      <td>4</td>\n",
       "      <td>b</td>\n",
       "    </tr>\n",
       "    <tr>\n",
       "      <th>2013-01-03</th>\n",
       "      <td>6</td>\n",
       "      <td>c</td>\n",
       "    </tr>\n",
       "  </tbody>\n",
       "</table>\n",
       "</div>"
      ],
      "text/plain": [
       "             colB  colC\n",
       "date                   \n",
       "2013-01-01      2     a\n",
       "2013-01-02      4     b\n",
       "2013-01-03      6     c"
      ]
     },
     "execution_count": 4,
     "metadata": {},
     "output_type": "execute_result"
    }
   ],
   "source": [
    "df = pd.read_csv('tmp/test.csv',index_col=0, header=0,dayfirst=True,parse_dates=True) # load DataFrame from csv\n",
    "print('Data types:\\n--------------\\n', df.dtypes) # show column types\n",
    "df"
   ]
  },
  {
   "cell_type": "code",
   "execution_count": 5,
   "metadata": {},
   "outputs": [
    {
     "data": {
      "text/plain": [
       "Timestamp('2013-01-01 00:00:00')"
      ]
     },
     "execution_count": 5,
     "metadata": {},
     "output_type": "execute_result"
    }
   ],
   "source": [
    "df.index[0]"
   ]
  },
  {
   "cell_type": "markdown",
   "metadata": {},
   "source": [
    "This looks better! \n",
    "For the (rare) cases where `read_csv()` does not work as you would like there is always a manual way of parsing file line-by-line. \n",
    "The code below is provided mainly for illustrative purposes, showing how to manually parse a text file.\n",
    "\n",
    "### The hard way\n",
    "\n",
    "[ref]: # (csv files - parse manually)\n",
    "\n",
    "The advantage of doing this manually is that you can parse any type of csv file exactly to your liking.This is the method I use for parsing most of the csv data coming from the net (see `yahooFinance.py` in the TWP library).\n",
    "The code below parses a csv in several steps:\n",
    "\n",
    "1. read text lines from file\n",
    "2. parse header data\n",
    "3. fill `data` array with values, converting strings to the right data type\n",
    "4. create a dictionary of header-data pairs\n",
    "5. create a DataFrame\n",
    "\n",
    "\n",
    "First a simple example of parsing a single line:"
   ]
  },
  {
   "cell_type": "code",
   "execution_count": 6,
   "metadata": {},
   "outputs": [
    {
     "data": {
      "text/plain": [
       "24"
      ]
     },
     "execution_count": 6,
     "metadata": {},
     "output_type": "execute_result"
    }
   ],
   "source": [
    "# example of parsing a single line\n",
    "s = 'foo,bar,24'  # create a string consisting of two substrings and a number\n",
    "l = s.split(',') # split string to a list, using ',' as a separator\n",
    "int(l[2]) # convert third element to an integer"
   ]
  },
  {
   "cell_type": "markdown",
   "metadata": {},
   "source": [
    "...and now parsing the csv file we saved earlier"
   ]
  },
  {
   "cell_type": "code",
   "execution_count": 7,
   "metadata": {},
   "outputs": [
    {
     "name": "stdout",
     "output_type": "stream",
     "text": [
      "lines: ['date, colB, colC\\n', '01-01-2013,2,a\\n', '02-01-2013,4,b\\n', '03-01-2013,6,c\\n']\n",
      "header: ['date', ' colB', ' colC']\n",
      "data: [[datetime.date(2013, 1, 1), datetime.date(2013, 1, 2), datetime.date(2013, 1, 3)], [2, 4, 6], ['a', 'b', 'c']]\n",
      "dataDict: {' colB': [2, 4, 6], ' colC': ['a', 'b', 'c']}\n"
     ]
    },
    {
     "data": {
      "text/html": [
       "<div>\n",
       "<style scoped>\n",
       "    .dataframe tbody tr th:only-of-type {\n",
       "        vertical-align: middle;\n",
       "    }\n",
       "\n",
       "    .dataframe tbody tr th {\n",
       "        vertical-align: top;\n",
       "    }\n",
       "\n",
       "    .dataframe thead th {\n",
       "        text-align: right;\n",
       "    }\n",
       "</style>\n",
       "<table border=\"1\" class=\"dataframe\">\n",
       "  <thead>\n",
       "    <tr style=\"text-align: right;\">\n",
       "      <th></th>\n",
       "      <th>colB</th>\n",
       "      <th>colC</th>\n",
       "    </tr>\n",
       "  </thead>\n",
       "  <tbody>\n",
       "    <tr>\n",
       "      <th>2013-01-01</th>\n",
       "      <td>2</td>\n",
       "      <td>a</td>\n",
       "    </tr>\n",
       "    <tr>\n",
       "      <th>2013-01-02</th>\n",
       "      <td>4</td>\n",
       "      <td>b</td>\n",
       "    </tr>\n",
       "    <tr>\n",
       "      <th>2013-01-03</th>\n",
       "      <td>6</td>\n",
       "      <td>c</td>\n",
       "    </tr>\n",
       "  </tbody>\n",
       "</table>\n",
       "</div>"
      ],
      "text/plain": [
       "             colB  colC\n",
       "2013-01-01      2     a\n",
       "2013-01-02      4     b\n",
       "2013-01-03      6     c"
      ]
     },
     "execution_count": 7,
     "metadata": {},
     "output_type": "execute_result"
    }
   ],
   "source": [
    "import datetime as dt # shorthand notation for datetime module\n",
    "\n",
    "#---------- read lines from file\n",
    "with open('tmp/test.csv','r') as f: # open file\n",
    "    lines = f.readlines() # read all lines to a list\n",
    "    \n",
    "print('lines:',lines)\n",
    "\n",
    "#----------- parse header\n",
    "header = lines[0].strip().split(',') # strip whitespace, split on ','. \n",
    "print('header:', header)\n",
    "\n",
    "#------------parse data\n",
    "data = [[],[],[]] # create an empty array for each column data\n",
    "\n",
    "for line in lines[1:]:  # start at second line, because first line is header\n",
    "    values = line.strip().split(',') # get the values from a line \n",
    "    data[0].append(dt.datetime.strptime(values[0],\"%d-%m-%Y\").date()) # parse date and append to column 0\n",
    "    data[1].append(int(values[1])) # conert to int and append to column 1\n",
    "    data[2].append(values[2]) # append to column 2, no conversion needed\n",
    "    \n",
    "print('data:', data)\n",
    "\n",
    "#----------create a dictionary with column-data . Column 0 is discarded as it is an index and not data\n",
    "dataDict = dict(list(zip(header[1:],data[1:])))\n",
    "print('dataDict:',dataDict)\n",
    "\n",
    "#-----------finally create the dataframe\n",
    "df =pd.DataFrame(data=dataDict, index=data[0]) # use standard constructor to create a dataframe\n",
    "\n",
    "df\n"
   ]
  },
  {
   "cell_type": "markdown",
   "metadata": {},
   "source": [
    "\n",
    "\n",
    "### Advanced example\n",
    "We'll use a Put/Call datafrom CBOE as an example. This file can be parsed automatically, but we'll be doing it manually first to learn how to do it.\n",
    "\n",
    "The following piece of code downloads the data using `urllib2` module to a `lines` list. Each element of the list now contains a single line from the online url. Saving to disk is not neccesary. To take a look at the file, just click [this link](http://www.cboe.com/publish/ScheduledTask/MktData/datahouse/totalpc.csv) to download it through your browser.\n",
    "Steps taken to parse this file are similar to the steps taken in the simple example above, but while previous code was written for easy reading, the following code uses a couple of tricks to automate iterating through the coulumns.\n",
    "\n",
    "[ref]: # (getting data - get put/call data from CBOE)"
   ]
  },
  {
   "cell_type": "code",
   "execution_count": 8,
   "metadata": {
    "collapsed": true
   },
   "outputs": [],
   "source": [
    "import urllib.request, urllib.error, urllib.parse\n",
    "\n",
    "urlStr = 'http://www.cboe.com/publish/ScheduledTask/MktData/datahouse/totalpc.csv'\n",
    "lines = urllib.request.urlopen(urlStr).readlines() # get all data to lines list\n"
   ]
  },
  {
   "cell_type": "markdown",
   "metadata": {},
   "source": [
    "Now let's print several lines"
   ]
  },
  {
   "cell_type": "code",
   "execution_count": 9,
   "metadata": {},
   "outputs": [
    {
     "name": "stdout",
     "output_type": "stream",
     "text": [
      "[lineNr 0]b'Volume and Put/Call Ratio data is compiled for the convenience of site visitors and is furnished without responsibility for accuracy and is accepted by the site visitor on the condition that transmission or omissions shall not be made the basis for any claim demand or cause for action.  Historical index volume from November 1 2006 through May 31 2012 is based on cleared volume as reported by the OCC. The volume data reflected after May 31 2012 below is based upon preliminary reported volume rather than cleared volume. The information and data was obtained from sources believed to be reliable but accuracy is not guaranteed. Your use of Cboe Volume and Put/Call Ratio data is subject to the Terms and Conditions of Cboe Websites.,,,,\\r\\n' \n",
      "[lineNr 1]b', PRODUCT: TOTAL,,EXCHANGE: Cboe,\\r\\n' \n",
      "[lineNr 2]b'DATE,CALLS,PUTS,TOTAL,P/C Ratio\\r\\n' \n",
      "[lineNr 3]b'11/1/2006,1401036,1271445,2672481,0.91\\r\\n' \n",
      "[lineNr 4]b'11/2/2006,1348240,1218592,2566832,0.9\\r\\n' \n",
      "[lineNr 5]b'11/3/2006,1317371,1197794,2515165,0.91\\r\\n' \n",
      "[lineNr 6]b'11/6/2006,1260832,960752,2221584,0.76\\r\\n' \n",
      "[lineNr 7]b'11/7/2006,1463685,1158790,2622475,0.79\\r\\n' \n",
      "[lineNr 8]b'11/8/2006,1587664,1232542,2820206,0.78\\r\\n' \n",
      "[lineNr 9]b'11/9/2006,1539157,1288147,2827304,0.84\\r\\n' \n"
     ]
    }
   ],
   "source": [
    "for lineNr, line in enumerate(lines[:10]):\n",
    "    print('[lineNr %i]%s ' % (lineNr,line))"
   ]
  },
  {
   "cell_type": "markdown",
   "metadata": {},
   "source": [
    "Line 2 contains column names, which now goes to the `header` list"
   ]
  },
  {
   "cell_type": "code",
   "execution_count": 10,
   "metadata": {},
   "outputs": [
    {
     "name": "stdout",
     "output_type": "stream",
     "text": [
      "['DATE', 'CALLS', 'PUTS', 'TOTAL', 'P/C Ratio']\n"
     ]
    }
   ],
   "source": [
    "headerLine = 2 # line number\n",
    "header = lines[headerLine].decode().strip().split(',') # strip whitespace from line, and split it on ','\n",
    "\n",
    "print(header)"
   ]
  },
  {
   "cell_type": "markdown",
   "metadata": {},
   "source": [
    "Now create a list that will hold the actual data. It is a list of lists, one for each column"
   ]
  },
  {
   "cell_type": "code",
   "execution_count": 11,
   "metadata": {},
   "outputs": [
    {
     "name": "stdout",
     "output_type": "stream",
     "text": [
      "[[], [], [], [], []]\n"
     ]
    }
   ],
   "source": [
    "columnData =   [[] for i in range(len(header))] # create empty list for each data column\n",
    "\n",
    "print(columnData)"
   ]
  },
  {
   "cell_type": "markdown",
   "metadata": {},
   "source": [
    "Now the data can be filled by iterating through each line after the header. "
   ]
  },
  {
   "cell_type": "code",
   "execution_count": 12,
   "metadata": {},
   "outputs": [
    {
     "data": {
      "text/html": [
       "<div>\n",
       "<style scoped>\n",
       "    .dataframe tbody tr th:only-of-type {\n",
       "        vertical-align: middle;\n",
       "    }\n",
       "\n",
       "    .dataframe tbody tr th {\n",
       "        vertical-align: top;\n",
       "    }\n",
       "\n",
       "    .dataframe thead th {\n",
       "        text-align: right;\n",
       "    }\n",
       "</style>\n",
       "<table border=\"1\" class=\"dataframe\">\n",
       "  <thead>\n",
       "    <tr style=\"text-align: right;\">\n",
       "      <th></th>\n",
       "      <th>CALLS</th>\n",
       "      <th>P/C Ratio</th>\n",
       "      <th>PUTS</th>\n",
       "      <th>TOTAL</th>\n",
       "    </tr>\n",
       "  </thead>\n",
       "  <tbody>\n",
       "    <tr>\n",
       "      <th>2018-02-06</th>\n",
       "      <td>5.74e+06</td>\n",
       "      <td>0.99</td>\n",
       "      <td>5.67e+06</td>\n",
       "      <td>1.14e+07</td>\n",
       "    </tr>\n",
       "    <tr>\n",
       "      <th>2018-02-07</th>\n",
       "      <td>4.06e+06</td>\n",
       "      <td>0.91</td>\n",
       "      <td>3.67e+06</td>\n",
       "      <td>7.73e+06</td>\n",
       "    </tr>\n",
       "    <tr>\n",
       "      <th>2018-02-08</th>\n",
       "      <td>3.92e+06</td>\n",
       "      <td>1.14</td>\n",
       "      <td>4.45e+06</td>\n",
       "      <td>8.37e+06</td>\n",
       "    </tr>\n",
       "    <tr>\n",
       "      <th>2018-02-09</th>\n",
       "      <td>3.99e+06</td>\n",
       "      <td>1.31</td>\n",
       "      <td>5.24e+06</td>\n",
       "      <td>9.23e+06</td>\n",
       "    </tr>\n",
       "    <tr>\n",
       "      <th>2018-02-12</th>\n",
       "      <td>3.57e+06</td>\n",
       "      <td>0.94</td>\n",
       "      <td>3.37e+06</td>\n",
       "      <td>6.94e+06</td>\n",
       "    </tr>\n",
       "    <tr>\n",
       "      <th>2018-02-13</th>\n",
       "      <td>3.04e+06</td>\n",
       "      <td>0.96</td>\n",
       "      <td>2.90e+06</td>\n",
       "      <td>5.94e+06</td>\n",
       "    </tr>\n",
       "    <tr>\n",
       "      <th>2018-02-14</th>\n",
       "      <td>2.98e+06</td>\n",
       "      <td>1.17</td>\n",
       "      <td>3.48e+06</td>\n",
       "      <td>6.46e+06</td>\n",
       "    </tr>\n",
       "    <tr>\n",
       "      <th>2018-02-15</th>\n",
       "      <td>3.18e+06</td>\n",
       "      <td>0.92</td>\n",
       "      <td>2.93e+06</td>\n",
       "      <td>6.11e+06</td>\n",
       "    </tr>\n",
       "    <tr>\n",
       "      <th>2018-02-16</th>\n",
       "      <td>3.31e+06</td>\n",
       "      <td>0.93</td>\n",
       "      <td>3.07e+06</td>\n",
       "      <td>6.38e+06</td>\n",
       "    </tr>\n",
       "    <tr>\n",
       "      <th>2018-02-20</th>\n",
       "      <td>2.40e+06</td>\n",
       "      <td>0.86</td>\n",
       "      <td>2.06e+06</td>\n",
       "      <td>4.45e+06</td>\n",
       "    </tr>\n",
       "  </tbody>\n",
       "</table>\n",
       "</div>"
      ],
      "text/plain": [
       "               CALLS  P/C Ratio      PUTS     TOTAL\n",
       "2018-02-06  5.74e+06       0.99  5.67e+06  1.14e+07\n",
       "2018-02-07  4.06e+06       0.91  3.67e+06  7.73e+06\n",
       "2018-02-08  3.92e+06       1.14  4.45e+06  8.37e+06\n",
       "2018-02-09  3.99e+06       1.31  5.24e+06  9.23e+06\n",
       "2018-02-12  3.57e+06       0.94  3.37e+06  6.94e+06\n",
       "2018-02-13  3.04e+06       0.96  2.90e+06  5.94e+06\n",
       "2018-02-14  2.98e+06       1.17  3.48e+06  6.46e+06\n",
       "2018-02-15  3.18e+06       0.92  2.93e+06  6.11e+06\n",
       "2018-02-16  3.31e+06       0.93  3.07e+06  6.38e+06\n",
       "2018-02-20  2.40e+06       0.86  2.06e+06  4.45e+06"
      ]
     },
     "execution_count": 12,
     "metadata": {},
     "output_type": "execute_result"
    }
   ],
   "source": [
    "import datetime as dt # shorthand notation for datetime module\n",
    "import pandas as pd\n",
    "\n",
    "for line in lines[(headerLine+1):]: # for each line starting after header line\n",
    "        fields = line.decode().rstrip().split(',') # split line to data fields. Each field is a string\n",
    "        # first field is the date, it is treated separately because it must be converted to\n",
    "        #datetime format. String from first field is appended to data[0]\n",
    "        columnData[0].append(dt.datetime.strptime(fields[0],'%m/%d/%Y').date()) \n",
    "        \n",
    "        # the rest of the fields are converted to floats in a loop\n",
    "        for i,field  in enumerate(fields[1:]): # for all fields from 1. i is the field number-1\n",
    "            columnData[i+1].append(float(field)) # convert data to float and append it to a column data\n",
    "\n",
    "d =   dict(list(zip(header[1:],columnData[1:]))) # create a dictionary with header-columnData pairs, exclude column 0       \n",
    "            \n",
    "df = pd.DataFrame(d, index = pd.Index(columnData[0])) #create DataFrame with index from column 0\n",
    "\n",
    "df.tail(10)"
   ]
  },
  {
   "cell_type": "markdown",
   "metadata": {},
   "source": [
    "### And the very easy way again\n",
    "`read_csv` can accept a `buffer` as input and parse it automatically. So getting the data from the net and parsing it can be done on one single line!"
   ]
  },
  {
   "cell_type": "code",
   "execution_count": 13,
   "metadata": {},
   "outputs": [
    {
     "data": {
      "text/html": [
       "<div>\n",
       "<style scoped>\n",
       "    .dataframe tbody tr th:only-of-type {\n",
       "        vertical-align: middle;\n",
       "    }\n",
       "\n",
       "    .dataframe tbody tr th {\n",
       "        vertical-align: top;\n",
       "    }\n",
       "\n",
       "    .dataframe thead th {\n",
       "        text-align: right;\n",
       "    }\n",
       "</style>\n",
       "<table border=\"1\" class=\"dataframe\">\n",
       "  <thead>\n",
       "    <tr style=\"text-align: right;\">\n",
       "      <th></th>\n",
       "      <th>CALLS</th>\n",
       "      <th>PUTS</th>\n",
       "      <th>TOTAL</th>\n",
       "      <th>P/C Ratio</th>\n",
       "    </tr>\n",
       "    <tr>\n",
       "      <th>DATE</th>\n",
       "      <th></th>\n",
       "      <th></th>\n",
       "      <th></th>\n",
       "      <th></th>\n",
       "    </tr>\n",
       "  </thead>\n",
       "  <tbody>\n",
       "    <tr>\n",
       "      <th>2006-11-01</th>\n",
       "      <td>1401036</td>\n",
       "      <td>1271445</td>\n",
       "      <td>2672481</td>\n",
       "      <td>0.91</td>\n",
       "    </tr>\n",
       "    <tr>\n",
       "      <th>2006-11-02</th>\n",
       "      <td>1348240</td>\n",
       "      <td>1218592</td>\n",
       "      <td>2566832</td>\n",
       "      <td>0.90</td>\n",
       "    </tr>\n",
       "    <tr>\n",
       "      <th>2006-11-03</th>\n",
       "      <td>1317371</td>\n",
       "      <td>1197794</td>\n",
       "      <td>2515165</td>\n",
       "      <td>0.91</td>\n",
       "    </tr>\n",
       "    <tr>\n",
       "      <th>2006-11-06</th>\n",
       "      <td>1260832</td>\n",
       "      <td>960752</td>\n",
       "      <td>2221584</td>\n",
       "      <td>0.76</td>\n",
       "    </tr>\n",
       "    <tr>\n",
       "      <th>2006-11-07</th>\n",
       "      <td>1463685</td>\n",
       "      <td>1158790</td>\n",
       "      <td>2622475</td>\n",
       "      <td>0.79</td>\n",
       "    </tr>\n",
       "    <tr>\n",
       "      <th>...</th>\n",
       "      <td>...</td>\n",
       "      <td>...</td>\n",
       "      <td>...</td>\n",
       "      <td>...</td>\n",
       "    </tr>\n",
       "    <tr>\n",
       "      <th>2018-02-13</th>\n",
       "      <td>3039673</td>\n",
       "      <td>2903417</td>\n",
       "      <td>5943090</td>\n",
       "      <td>0.96</td>\n",
       "    </tr>\n",
       "    <tr>\n",
       "      <th>2018-02-14</th>\n",
       "      <td>2981929</td>\n",
       "      <td>3481044</td>\n",
       "      <td>6462973</td>\n",
       "      <td>1.17</td>\n",
       "    </tr>\n",
       "    <tr>\n",
       "      <th>2018-02-15</th>\n",
       "      <td>3179289</td>\n",
       "      <td>2929984</td>\n",
       "      <td>6109273</td>\n",
       "      <td>0.92</td>\n",
       "    </tr>\n",
       "    <tr>\n",
       "      <th>2018-02-16</th>\n",
       "      <td>3307999</td>\n",
       "      <td>3067685</td>\n",
       "      <td>6375684</td>\n",
       "      <td>0.93</td>\n",
       "    </tr>\n",
       "    <tr>\n",
       "      <th>2018-02-20</th>\n",
       "      <td>2396334</td>\n",
       "      <td>2055649</td>\n",
       "      <td>4451983</td>\n",
       "      <td>0.86</td>\n",
       "    </tr>\n",
       "  </tbody>\n",
       "</table>\n",
       "<p>2844 rows × 4 columns</p>\n",
       "</div>"
      ],
      "text/plain": [
       "              CALLS     PUTS    TOTAL  P/C Ratio\n",
       "DATE                                            \n",
       "2006-11-01  1401036  1271445  2672481       0.91\n",
       "2006-11-02  1348240  1218592  2566832       0.90\n",
       "2006-11-03  1317371  1197794  2515165       0.91\n",
       "2006-11-06  1260832   960752  2221584       0.76\n",
       "2006-11-07  1463685  1158790  2622475       0.79\n",
       "...             ...      ...      ...        ...\n",
       "2018-02-13  3039673  2903417  5943090       0.96\n",
       "2018-02-14  2981929  3481044  6462973       1.17\n",
       "2018-02-15  3179289  2929984  6109273       0.92\n",
       "2018-02-16  3307999  3067685  6375684       0.93\n",
       "2018-02-20  2396334  2055649  4451983       0.86\n",
       "\n",
       "[2844 rows x 4 columns]"
      ]
     },
     "execution_count": 13,
     "metadata": {},
     "output_type": "execute_result"
    }
   ],
   "source": [
    "df = pd.read_csv(urllib.request.urlopen(urlStr), header = 2, index_col=0,parse_dates=True)\n",
    "df"
   ]
  },
  {
   "cell_type": "code",
   "execution_count": 14,
   "metadata": {},
   "outputs": [
    {
     "data": {
      "text/html": [
       "<div>\n",
       "<style scoped>\n",
       "    .dataframe tbody tr th:only-of-type {\n",
       "        vertical-align: middle;\n",
       "    }\n",
       "\n",
       "    .dataframe tbody tr th {\n",
       "        vertical-align: top;\n",
       "    }\n",
       "\n",
       "    .dataframe thead th {\n",
       "        text-align: right;\n",
       "    }\n",
       "</style>\n",
       "<table border=\"1\" class=\"dataframe\">\n",
       "  <thead>\n",
       "    <tr style=\"text-align: right;\">\n",
       "      <th></th>\n",
       "      <th>CALLS</th>\n",
       "      <th>PUTS</th>\n",
       "      <th>TOTAL</th>\n",
       "      <th>P/C Ratio</th>\n",
       "    </tr>\n",
       "    <tr>\n",
       "      <th>DATE</th>\n",
       "      <th></th>\n",
       "      <th></th>\n",
       "      <th></th>\n",
       "      <th></th>\n",
       "    </tr>\n",
       "  </thead>\n",
       "  <tbody>\n",
       "    <tr>\n",
       "      <th>2018-02-13</th>\n",
       "      <td>3039673</td>\n",
       "      <td>2903417</td>\n",
       "      <td>5943090</td>\n",
       "      <td>0.96</td>\n",
       "    </tr>\n",
       "    <tr>\n",
       "      <th>2018-02-14</th>\n",
       "      <td>2981929</td>\n",
       "      <td>3481044</td>\n",
       "      <td>6462973</td>\n",
       "      <td>1.17</td>\n",
       "    </tr>\n",
       "    <tr>\n",
       "      <th>2018-02-15</th>\n",
       "      <td>3179289</td>\n",
       "      <td>2929984</td>\n",
       "      <td>6109273</td>\n",
       "      <td>0.92</td>\n",
       "    </tr>\n",
       "    <tr>\n",
       "      <th>2018-02-16</th>\n",
       "      <td>3307999</td>\n",
       "      <td>3067685</td>\n",
       "      <td>6375684</td>\n",
       "      <td>0.93</td>\n",
       "    </tr>\n",
       "    <tr>\n",
       "      <th>2018-02-20</th>\n",
       "      <td>2396334</td>\n",
       "      <td>2055649</td>\n",
       "      <td>4451983</td>\n",
       "      <td>0.86</td>\n",
       "    </tr>\n",
       "  </tbody>\n",
       "</table>\n",
       "</div>"
      ],
      "text/plain": [
       "              CALLS     PUTS    TOTAL  P/C Ratio\n",
       "DATE                                            \n",
       "2018-02-13  3039673  2903417  5943090       0.96\n",
       "2018-02-14  2981929  3481044  6462973       1.17\n",
       "2018-02-15  3179289  2929984  6109273       0.92\n",
       "2018-02-16  3307999  3067685  6375684       0.93\n",
       "2018-02-20  2396334  2055649  4451983       0.86"
      ]
     },
     "execution_count": 14,
     "metadata": {},
     "output_type": "execute_result"
    },
    {
     "data": {
      "image/png": "[encoded data removed]",
      "text/plain": [
       "<matplotlib.figure.Figure at 0x7f9f4ad653c8>"
      ]
     },
     "metadata": {},
     "output_type": "display_data"
    }
   ],
   "source": [
    "df['P/C Ratio'].plot()\n",
    "df.tail()"
   ]
  },
  {
   "cell_type": "markdown",
   "metadata": {},
   "source": [
    "## Writing csv files\n",
    "\n",
    "[ref]: # (csv files - writing)\n",
    "\n",
    "Normally you would not need to write csv files manually.  `DataFrame.to_csv()` takes care of this:"
   ]
  },
  {
   "cell_type": "code",
   "execution_count": 15,
   "metadata": {},
   "outputs": [
    {
     "data": {
      "text/html": [
       "<div>\n",
       "<style scoped>\n",
       "    .dataframe tbody tr th:only-of-type {\n",
       "        vertical-align: middle;\n",
       "    }\n",
       "\n",
       "    .dataframe tbody tr th {\n",
       "        vertical-align: top;\n",
       "    }\n",
       "\n",
       "    .dataframe thead th {\n",
       "        text-align: right;\n",
       "    }\n",
       "</style>\n",
       "<table border=\"1\" class=\"dataframe\">\n",
       "  <thead>\n",
       "    <tr style=\"text-align: right;\">\n",
       "      <th></th>\n",
       "      <th>CALLS</th>\n",
       "      <th>PUTS</th>\n",
       "      <th>TOTAL</th>\n",
       "      <th>P/C Ratio</th>\n",
       "    </tr>\n",
       "    <tr>\n",
       "      <th>DATE</th>\n",
       "      <th></th>\n",
       "      <th></th>\n",
       "      <th></th>\n",
       "      <th></th>\n",
       "    </tr>\n",
       "  </thead>\n",
       "  <tbody>\n",
       "    <tr>\n",
       "      <th>2006-11-01</th>\n",
       "      <td>1401036</td>\n",
       "      <td>1271445</td>\n",
       "      <td>2672481</td>\n",
       "      <td>0.91</td>\n",
       "    </tr>\n",
       "    <tr>\n",
       "      <th>2006-11-02</th>\n",
       "      <td>1348240</td>\n",
       "      <td>1218592</td>\n",
       "      <td>2566832</td>\n",
       "      <td>0.90</td>\n",
       "    </tr>\n",
       "    <tr>\n",
       "      <th>2006-11-03</th>\n",
       "      <td>1317371</td>\n",
       "      <td>1197794</td>\n",
       "      <td>2515165</td>\n",
       "      <td>0.91</td>\n",
       "    </tr>\n",
       "    <tr>\n",
       "      <th>2006-11-06</th>\n",
       "      <td>1260832</td>\n",
       "      <td>960752</td>\n",
       "      <td>2221584</td>\n",
       "      <td>0.76</td>\n",
       "    </tr>\n",
       "    <tr>\n",
       "      <th>2006-11-07</th>\n",
       "      <td>1463685</td>\n",
       "      <td>1158790</td>\n",
       "      <td>2622475</td>\n",
       "      <td>0.79</td>\n",
       "    </tr>\n",
       "    <tr>\n",
       "      <th>...</th>\n",
       "      <td>...</td>\n",
       "      <td>...</td>\n",
       "      <td>...</td>\n",
       "      <td>...</td>\n",
       "    </tr>\n",
       "    <tr>\n",
       "      <th>2018-02-13</th>\n",
       "      <td>3039673</td>\n",
       "      <td>2903417</td>\n",
       "      <td>5943090</td>\n",
       "      <td>0.96</td>\n",
       "    </tr>\n",
       "    <tr>\n",
       "      <th>2018-02-14</th>\n",
       "      <td>2981929</td>\n",
       "      <td>3481044</td>\n",
       "      <td>6462973</td>\n",
       "      <td>1.17</td>\n",
       "    </tr>\n",
       "    <tr>\n",
       "      <th>2018-02-15</th>\n",
       "      <td>3179289</td>\n",
       "      <td>2929984</td>\n",
       "      <td>6109273</td>\n",
       "      <td>0.92</td>\n",
       "    </tr>\n",
       "    <tr>\n",
       "      <th>2018-02-16</th>\n",
       "      <td>3307999</td>\n",
       "      <td>3067685</td>\n",
       "      <td>6375684</td>\n",
       "      <td>0.93</td>\n",
       "    </tr>\n",
       "    <tr>\n",
       "      <th>2018-02-20</th>\n",
       "      <td>2396334</td>\n",
       "      <td>2055649</td>\n",
       "      <td>4451983</td>\n",
       "      <td>0.86</td>\n",
       "    </tr>\n",
       "  </tbody>\n",
       "</table>\n",
       "<p>2844 rows × 4 columns</p>\n",
       "</div>"
      ],
      "text/plain": [
       "              CALLS     PUTS    TOTAL  P/C Ratio\n",
       "DATE                                            \n",
       "2006-11-01  1401036  1271445  2672481       0.91\n",
       "2006-11-02  1348240  1218592  2566832       0.90\n",
       "2006-11-03  1317371  1197794  2515165       0.91\n",
       "2006-11-06  1260832   960752  2221584       0.76\n",
       "2006-11-07  1463685  1158790  2622475       0.79\n",
       "...             ...      ...      ...        ...\n",
       "2018-02-13  3039673  2903417  5943090       0.96\n",
       "2018-02-14  2981929  3481044  6462973       1.17\n",
       "2018-02-15  3179289  2929984  6109273       0.92\n",
       "2018-02-16  3307999  3067685  6375684       0.93\n",
       "2018-02-20  2396334  2055649  4451983       0.86\n",
       "\n",
       "[2844 rows x 4 columns]"
      ]
     },
     "execution_count": 15,
     "metadata": {},
     "output_type": "execute_result"
    }
   ],
   "source": [
    "df.to_csv('tmp/pc_ratio.csv')\n",
    "df"
   ]
  },
  {
   "cell_type": "markdown",
   "metadata": {},
   "source": [
    "A big advantage is that the files written by `DataFrame.to_csv()`, will also be readable by `DataFrame.read_csv()` and `read_csv()` functions\n",
    "\n",
    "<div class=\"alert alert-info\">\n",
    "**note:**\n",
    "\n",
    "  `DataFrame.read_csv()` will be depreciated in the future. It is better to use `read_csv()`.\n",
    "</div>"
   ]
  },
  {
   "cell_type": "code",
   "execution_count": 16,
   "metadata": {},
   "outputs": [
    {
     "data": {
      "text/html": [
       "<div>\n",
       "<style scoped>\n",
       "    .dataframe tbody tr th:only-of-type {\n",
       "        vertical-align: middle;\n",
       "    }\n",
       "\n",
       "    .dataframe tbody tr th {\n",
       "        vertical-align: top;\n",
       "    }\n",
       "\n",
       "    .dataframe thead th {\n",
       "        text-align: right;\n",
       "    }\n",
       "</style>\n",
       "<table border=\"1\" class=\"dataframe\">\n",
       "  <thead>\n",
       "    <tr style=\"text-align: right;\">\n",
       "      <th></th>\n",
       "      <th>CALLS</th>\n",
       "      <th>PUTS</th>\n",
       "      <th>TOTAL</th>\n",
       "      <th>P/C Ratio</th>\n",
       "    </tr>\n",
       "    <tr>\n",
       "      <th>DATE</th>\n",
       "      <th></th>\n",
       "      <th></th>\n",
       "      <th></th>\n",
       "      <th></th>\n",
       "    </tr>\n",
       "  </thead>\n",
       "  <tbody>\n",
       "    <tr>\n",
       "      <th>2018-02-13</th>\n",
       "      <td>3039673</td>\n",
       "      <td>2903417</td>\n",
       "      <td>5943090</td>\n",
       "      <td>0.96</td>\n",
       "    </tr>\n",
       "    <tr>\n",
       "      <th>2018-02-14</th>\n",
       "      <td>2981929</td>\n",
       "      <td>3481044</td>\n",
       "      <td>6462973</td>\n",
       "      <td>1.17</td>\n",
       "    </tr>\n",
       "    <tr>\n",
       "      <th>2018-02-15</th>\n",
       "      <td>3179289</td>\n",
       "      <td>2929984</td>\n",
       "      <td>6109273</td>\n",
       "      <td>0.92</td>\n",
       "    </tr>\n",
       "    <tr>\n",
       "      <th>2018-02-16</th>\n",
       "      <td>3307999</td>\n",
       "      <td>3067685</td>\n",
       "      <td>6375684</td>\n",
       "      <td>0.93</td>\n",
       "    </tr>\n",
       "    <tr>\n",
       "      <th>2018-02-20</th>\n",
       "      <td>2396334</td>\n",
       "      <td>2055649</td>\n",
       "      <td>4451983</td>\n",
       "      <td>0.86</td>\n",
       "    </tr>\n",
       "  </tbody>\n",
       "</table>\n",
       "</div>"
      ],
      "text/plain": [
       "              CALLS     PUTS    TOTAL  P/C Ratio\n",
       "DATE                                            \n",
       "2018-02-13  3039673  2903417  5943090       0.96\n",
       "2018-02-14  2981929  3481044  6462973       1.17\n",
       "2018-02-15  3179289  2929984  6109273       0.92\n",
       "2018-02-16  3307999  3067685  6375684       0.93\n",
       "2018-02-20  2396334  2055649  4451983       0.86"
      ]
     },
     "execution_count": 16,
     "metadata": {},
     "output_type": "execute_result"
    }
   ],
   "source": [
    "df2 = pd.read_csv('tmp/pc_ratio.csv', index_col=0,parse_dates=True)\n",
    "df2.tail()"
   ]
  },
  {
   "cell_type": "code",
   "execution_count": 17,
   "metadata": {},
   "outputs": [
    {
     "data": {
      "text/plain": [
       "DatetimeIndex(['2006-11-01', '2006-11-02', '2006-11-03', '2006-11-06',\n",
       "               '2006-11-07', '2006-11-08', '2006-11-09', '2006-11-10',\n",
       "               '2006-11-13', '2006-11-14',\n",
       "               ...\n",
       "               '2018-02-06', '2018-02-07', '2018-02-08', '2018-02-09',\n",
       "               '2018-02-12', '2018-02-13', '2018-02-14', '2018-02-15',\n",
       "               '2018-02-16', '2018-02-20'],\n",
       "              dtype='datetime64[ns]', name='DATE', length=2844, freq=None)"
      ]
     },
     "execution_count": 17,
     "metadata": {},
     "output_type": "execute_result"
    }
   ],
   "source": [
    "df2.index"
   ]
  },
  {
   "cell_type": "code",
   "execution_count": 18,
   "metadata": {},
   "outputs": [
    {
     "name": "stderr",
     "output_type": "stream",
     "text": [
      "/home/jev/anaconda3/lib/python3.6/site-packages/ipykernel_launcher.py:1: FutureWarning: from_csv is deprecated. Please use read_csv(...) instead. Note that some of the default arguments are different, so please refer to the documentation for from_csv when changing your function calls\n",
      "  \"\"\"Entry point for launching an IPython kernel.\n"
     ]
    },
    {
     "data": {
      "text/html": [
       "<div>\n",
       "<style scoped>\n",
       "    .dataframe tbody tr th:only-of-type {\n",
       "        vertical-align: middle;\n",
       "    }\n",
       "\n",
       "    .dataframe tbody tr th {\n",
       "        vertical-align: top;\n",
       "    }\n",
       "\n",
       "    .dataframe thead th {\n",
       "        text-align: right;\n",
       "    }\n",
       "</style>\n",
       "<table border=\"1\" class=\"dataframe\">\n",
       "  <thead>\n",
       "    <tr style=\"text-align: right;\">\n",
       "      <th></th>\n",
       "      <th>CALLS</th>\n",
       "      <th>PUTS</th>\n",
       "      <th>TOTAL</th>\n",
       "      <th>P/C Ratio</th>\n",
       "    </tr>\n",
       "    <tr>\n",
       "      <th>DATE</th>\n",
       "      <th></th>\n",
       "      <th></th>\n",
       "      <th></th>\n",
       "      <th></th>\n",
       "    </tr>\n",
       "  </thead>\n",
       "  <tbody>\n",
       "    <tr>\n",
       "      <th>2006-11-01</th>\n",
       "      <td>1401036</td>\n",
       "      <td>1271445</td>\n",
       "      <td>2672481</td>\n",
       "      <td>0.91</td>\n",
       "    </tr>\n",
       "    <tr>\n",
       "      <th>2006-11-02</th>\n",
       "      <td>1348240</td>\n",
       "      <td>1218592</td>\n",
       "      <td>2566832</td>\n",
       "      <td>0.90</td>\n",
       "    </tr>\n",
       "    <tr>\n",
       "      <th>2006-11-03</th>\n",
       "      <td>1317371</td>\n",
       "      <td>1197794</td>\n",
       "      <td>2515165</td>\n",
       "      <td>0.91</td>\n",
       "    </tr>\n",
       "    <tr>\n",
       "      <th>2006-11-06</th>\n",
       "      <td>1260832</td>\n",
       "      <td>960752</td>\n",
       "      <td>2221584</td>\n",
       "      <td>0.76</td>\n",
       "    </tr>\n",
       "    <tr>\n",
       "      <th>2006-11-07</th>\n",
       "      <td>1463685</td>\n",
       "      <td>1158790</td>\n",
       "      <td>2622475</td>\n",
       "      <td>0.79</td>\n",
       "    </tr>\n",
       "    <tr>\n",
       "      <th>...</th>\n",
       "      <td>...</td>\n",
       "      <td>...</td>\n",
       "      <td>...</td>\n",
       "      <td>...</td>\n",
       "    </tr>\n",
       "    <tr>\n",
       "      <th>2018-02-13</th>\n",
       "      <td>3039673</td>\n",
       "      <td>2903417</td>\n",
       "      <td>5943090</td>\n",
       "      <td>0.96</td>\n",
       "    </tr>\n",
       "    <tr>\n",
       "      <th>2018-02-14</th>\n",
       "      <td>2981929</td>\n",
       "      <td>3481044</td>\n",
       "      <td>6462973</td>\n",
       "      <td>1.17</td>\n",
       "    </tr>\n",
       "    <tr>\n",
       "      <th>2018-02-15</th>\n",
       "      <td>3179289</td>\n",
       "      <td>2929984</td>\n",
       "      <td>6109273</td>\n",
       "      <td>0.92</td>\n",
       "    </tr>\n",
       "    <tr>\n",
       "      <th>2018-02-16</th>\n",
       "      <td>3307999</td>\n",
       "      <td>3067685</td>\n",
       "      <td>6375684</td>\n",
       "      <td>0.93</td>\n",
       "    </tr>\n",
       "    <tr>\n",
       "      <th>2018-02-20</th>\n",
       "      <td>2396334</td>\n",
       "      <td>2055649</td>\n",
       "      <td>4451983</td>\n",
       "      <td>0.86</td>\n",
       "    </tr>\n",
       "  </tbody>\n",
       "</table>\n",
       "<p>2844 rows × 4 columns</p>\n",
       "</div>"
      ],
      "text/plain": [
       "              CALLS     PUTS    TOTAL  P/C Ratio\n",
       "DATE                                            \n",
       "2006-11-01  1401036  1271445  2672481       0.91\n",
       "2006-11-02  1348240  1218592  2566832       0.90\n",
       "2006-11-03  1317371  1197794  2515165       0.91\n",
       "2006-11-06  1260832   960752  2221584       0.76\n",
       "2006-11-07  1463685  1158790  2622475       0.79\n",
       "...             ...      ...      ...        ...\n",
       "2018-02-13  3039673  2903417  5943090       0.96\n",
       "2018-02-14  2981929  3481044  6462973       1.17\n",
       "2018-02-15  3179289  2929984  6109273       0.92\n",
       "2018-02-16  3307999  3067685  6375684       0.93\n",
       "2018-02-20  2396334  2055649  4451983       0.86\n",
       "\n",
       "[2844 rows x 4 columns]"
      ]
     },
     "execution_count": 18,
     "metadata": {},
     "output_type": "execute_result"
    }
   ],
   "source": [
    "df3 = pd.DataFrame.from_csv('tmp/pc_ratio.csv') # this works, but produces a depreciation warning. Not recommended.\n",
    "df3"
   ]
  }
 ],
 "metadata": {
  "kernelspec": {
   "display_name": "Python 3",
   "language": "python",
   "name": "python3"
  },
  "language_info": {
   "codemirror_mode": {
    "name": "ipython",
    "version": 3
   },
   "file_extension": ".py",
   "mimetype": "text/x-python",
   "name": "python",
   "nbconvert_exporter": "python",
   "pygments_lexer": "ipython3",
   "version": "3.6.2"
  },
  "toc": {
   "nav_menu": {},
   "number_sections": false,
   "sideBar": true,
   "skip_h1_title": false,
   "toc_cell": false,
   "toc_position": {},
   "toc_section_display": "block",
   "toc_window_display": true
  }
 },
 "nbformat": 4,
 "nbformat_minor": 1
}
