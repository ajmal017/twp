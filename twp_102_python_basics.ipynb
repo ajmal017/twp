{
 "cells": [
  {
   "cell_type": "markdown",
   "metadata": {
    "twp": "split"
   },
   "source": [
    "# Overview of python basics \n",
    "\n",
    "let's take a look at some Python basics that you should know by now.\n",
    "If you encounter something you are unfamiliar with, please take a look at [learnpython.org](http://www.learnpython.org)\n",
    "\n",
    "You should also take a look at these chapters of the [Python for Data Analysys (PDA) book](http://shop.oreilly.com/product/0636920023784.do)\n",
    "\n",
    "* Chapter 3: IPython: An Interactive Computing and Development Environment\n",
    "* Appendix: Python Language Essentials\n"
   ]
  },
  {
   "cell_type": "code",
   "execution_count": 1,
   "metadata": {},
   "outputs": [
    {
     "name": "stdout",
     "output_type": "stream",
     "text": [
      "Hello world!\n"
     ]
    }
   ],
   "source": [
    "#printing is easy:\n",
    "print (\"Hello world!\")"
   ]
  },
  {
   "cell_type": "code",
   "execution_count": 2,
   "metadata": {},
   "outputs": [
    {
     "name": "stdout",
     "output_type": "stream",
     "text": [
      "(3, 'some text', 3.0)\n"
     ]
    }
   ],
   "source": [
    "# simple variables\n",
    "a = 3\n",
    "b = 'some text'\n",
    "c = 3.0\n",
    "\n",
    "print((a, b, c))\n"
   ]
  },
  {
   "cell_type": "code",
   "execution_count": 3,
   "metadata": {},
   "outputs": [
    {
     "name": "stdout",
     "output_type": "stream",
     "text": [
      "[1, 2, 3]\n",
      "[0, 1, 2, 3, 4, 5, 6, 7, 8, 9, 10, 11, 12, 13, 14, 15, 16, 17, 18, 19]\n"
     ]
    }
   ],
   "source": [
    "#lists\n",
    "L = [1,2,3]\n",
    "print(L)\n",
    "\n",
    "L = list(range(20))\n",
    "print(L)\n"
   ]
  },
  {
   "cell_type": "markdown",
   "metadata": {},
   "source": [
    "to get help for `range` function just type `range?`"
   ]
  },
  {
   "cell_type": "code",
   "execution_count": 4,
   "metadata": {
    "collapsed": true
   },
   "outputs": [],
   "source": [
    "#what is range\n",
    "range?"
   ]
  },
  {
   "cell_type": "markdown",
   "metadata": {},
   "source": [
    "You can remove the help popup by dragging it down or double-clicking on the division line."
   ]
  },
  {
   "cell_type": "code",
   "execution_count": 5,
   "metadata": {},
   "outputs": [
    {
     "name": "stdout",
     "output_type": "stream",
     "text": [
      "<class 'dict'>\n",
      "(\"Value at 'two' is \", 2)\n"
     ]
    }
   ],
   "source": [
    "#dictionaries\n",
    "d = {'one':1,'two':2,'label':5}\n",
    "print((type(d)))\n",
    "print((\"Value at 'two' is \", d['two']))"
   ]
  },
  {
   "cell_type": "code",
   "execution_count": 6,
   "metadata": {},
   "outputs": [
    {
     "name": "stdout",
     "output_type": "stream",
     "text": [
      "2\n",
      "3\n",
      "5\n",
      "7\n"
     ]
    }
   ],
   "source": [
    "#loops\n",
    "primes = [2,3,5,7]\n",
    "for prime in primes:\n",
    "    print(prime)\n"
   ]
  },
  {
   "cell_type": "code",
   "execution_count": 7,
   "metadata": {},
   "outputs": [
    {
     "name": "stdout",
     "output_type": "stream",
     "text": [
      "('number:', 20)\n"
     ]
    }
   ],
   "source": [
    "#functions\n",
    "def my_function(n):\n",
    "    print((\"number:\", n))\n",
    "    \n",
    "my_function(20)\n",
    "    \n"
   ]
  },
  {
   "cell_type": "code",
   "execution_count": 8,
   "metadata": {},
   "outputs": [
    {
     "name": "stdout",
     "output_type": "stream",
     "text": [
      "Hello world!\n"
     ]
    }
   ],
   "source": [
    "#classes\n",
    "class MyClass:\n",
    "    variable = \"blah\"\n",
    "\n",
    "    def function(self):\n",
    "        \"\"\" this function prints a message \"\"\"\n",
    "        print(\"Hello world!\")\n",
    "            \n",
    "    \n",
    "            \n",
    "c = MyClass()           \n",
    "c.function()\n"
   ]
  }
 ],
 "metadata": {
  "kernelspec": {
   "display_name": "Python 3",
   "language": "python",
   "name": "python3"
  },
  "language_info": {
   "codemirror_mode": {
    "name": "ipython",
    "version": 3
   },
   "file_extension": ".py",
   "mimetype": "text/x-python",
   "name": "python",
   "nbconvert_exporter": "python",
   "pygments_lexer": "ipython3",
   "version": "3.6.2"
  },
  "toc": {
   "nav_menu": {},
   "number_sections": false,
   "sideBar": true,
   "skip_h1_title": false,
   "toc_cell": false,
   "toc_position": {},
   "toc_section_display": "block",
   "toc_window_display": true
  }
 },
 "nbformat": 4,
 "nbformat_minor": 2
}
